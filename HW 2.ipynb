{
 "cells": [
  {
   "cell_type": "markdown",
   "metadata": {},
   "source": [
    "## Merge sorted stream"
   ]
  },
  {
   "cell_type": "code",
   "execution_count": 57,
   "metadata": {},
   "outputs": [],
   "source": [
    "def merge_sorted_stream(*args):\n",
    "    index = [iter(i) for i in args]\n",
    "    locatemin = [next(index[i]) for i in range(len(index))]\n",
    "    while locatemin:\n",
    "        min_index = locatemin.index(min(locatemin))\n",
    "        yield locatemin[min_index]\n",
    "        try:\n",
    "            locatemin[min_index] = next(index[min_index])\n",
    "        except StopIteration:\n",
    "            args = args[:min_index] + args[min_index+1:]\n",
    "            locatemin.pop(min_index)\n",
    "            \n",
    "            \n"
   ]
  },
  {
   "cell_type": "code",
   "execution_count": 60,
   "metadata": {},
   "outputs": [
    {
     "name": "stdout",
     "output_type": "stream",
     "text": [
      "0\n",
      "1\n",
      "2\n",
      "3\n",
      "4\n",
      "5\n",
      "6\n",
      "7\n",
      "8\n",
      "9\n"
     ]
    }
   ],
   "source": [
    "\n",
    "stream1 = range(0, 10, 2)\n",
    "stream2 = range(1, 10, 2)\n",
    "for x in merge_sorted_stream(stream1,stream2):\n",
    "    print(x)\n"
   ]
  },
  {
   "cell_type": "code",
   "execution_count": 63,
   "metadata": {},
   "outputs": [
    {
     "name": "stdout",
     "output_type": "stream",
     "text": [
      "-1\n",
      "0\n",
      "1\n",
      "2\n",
      "3\n",
      "4\n",
      "5\n",
      "6\n",
      "7\n",
      "7\n",
      "7\n",
      "8\n",
      "9\n",
      "22\n"
     ]
    }
   ],
   "source": [
    "\n",
    "stream1 = range(0, 10, 2)\n",
    "stream2 = range(1, 10, 2)\n",
    "stream3 = [-1,7,7,22]\n",
    "for x in merge_sorted_stream(stream1,stream2,stream3):\n",
    "    print(x)\n"
   ]
  },
  {
   "cell_type": "markdown",
   "metadata": {},
   "source": [
    "## Tree traversal"
   ]
  },
  {
   "cell_type": "code",
   "execution_count": 68,
   "metadata": {},
   "outputs": [
    {
     "name": "stdout",
     "output_type": "stream",
     "text": [
      "4 -> 2 -> 5 -> 1 -> 3\n",
      "1 -> 2 -> 4 -> 5 -> 3\n",
      "4 -> 5 -> 2 -> 3 -> 1\n"
     ]
    }
   ],
   "source": [
    "class TreeNode:\n",
    "\n",
    "    def __init__(self, val):\n",
    "        self.val = str(val)\n",
    "        self.left = None\n",
    "        self.right = None\n",
    "\n",
    "    def in_order(self):\n",
    "        # Left, Root, Right\n",
    "        if self.left:\n",
    "            for order in self.left.in_order():\n",
    "                yield order\n",
    "\n",
    "        yield self.val\n",
    "\n",
    "        if self.right:\n",
    "            for order in self.right.in_order():\n",
    "                yield order\n",
    "\n",
    "    def pre_order(self):\n",
    "       # Root, Left, Right\n",
    "        yield self.val\n",
    "\n",
    "        if self.left:\n",
    "            for order in self.left.pre_order():\n",
    "                yield order\n",
    "\n",
    "        if self.right:\n",
    "            for order in self.right.pre_order():\n",
    "                yield order\n",
    "\n",
    "    def post_order(self):\n",
    "        # Left, Right, Root\n",
    "        if self.left:\n",
    "            for order in self.left.post_order():\n",
    "                yield order\n",
    "\n",
    "        if self.right:\n",
    "            for order in self.right.post_order():\n",
    "                yield order\n",
    "\n",
    "        yield self.val\n",
    "\n",
    "\n",
    "root = TreeNode(1)\n",
    "root.left = TreeNode(2)\n",
    "root.right = TreeNode(3)\n",
    "root.left.left = TreeNode(4)\n",
    "root.left.right = TreeNode(5)\n",
    "\n",
    "print(' -> '.join(item for item in root.in_order()))\n",
    "print(' -> '.join(item for item in root.pre_order()))\n",
    "print(' -> '.join(item for item in root.post_order()))"
   ]
  }
 ],
 "metadata": {
  "kernelspec": {
   "display_name": "Python 3",
   "language": "python",
   "name": "python3"
  },
  "language_info": {
   "codemirror_mode": {
    "name": "ipython",
    "version": 3
   },
   "file_extension": ".py",
   "mimetype": "text/x-python",
   "name": "python",
   "nbconvert_exporter": "python",
   "pygments_lexer": "ipython3",
   "version": "3.7.7"
  },
  "toc": {
   "base_numbering": 1,
   "nav_menu": {},
   "number_sections": true,
   "sideBar": true,
   "skip_h1_title": false,
   "title_cell": "Table of Contents",
   "title_sidebar": "Contents",
   "toc_cell": false,
   "toc_position": {},
   "toc_section_display": true,
   "toc_window_display": false
  }
 },
 "nbformat": 4,
 "nbformat_minor": 4
}
